{
 "cells": [
  {
   "cell_type": "markdown",
   "metadata": {},
   "source": [
    "# Setup a working enviroment for running Clairvoyante\n",
    "\n",
    "The `$HOME/parepare_data.sh` will install the python packages that are needed for a working envrionment to run Clairvoyante. It will download the data for variant calling and training dataset from the DNAnexus project. \n",
    "\n",
    "Note that this script does a `git clone` the latest version of Clairvoyante at run time.  If there is some update of the source code in GitHub, we might have to update the code in this notebook to make sure it will still function correctly.\n",
    "\n",
    "\n",
    "The content of `$HOME/parepare_data.sh`.\n",
    "```\n",
    "#!/bin/bash\n",
    "sudo /anaconda2/bin/pip install intervaltree blosc --no-cache\n",
    "sudo apt-get install -q samtools\n",
    "wget -q https://bootstrap.pypa.io/get-pip.py\n",
    "sudo -H pypy get-pip.py\n",
    "sudo -H pypy -m pip install -q blosc --no-cache\n",
    "sudo -H pypy -m pip install -q intervaltree --no-cache\n",
    "\n",
    "export PATH=/usr/local/sbin:/usr/local/bin:/usr/sbin:/usr/bin:/sbin:/bin:/snap/bin\n",
    "export PYTHONPATH=\"/usr/share/dnanexus/lib/python2.7/site-packages:/usr/share/dnanexus/lib/python2.7/site-packages:/usr/share/dnanexus/lib/python2.7/site-packages:/usr/share/dnanexus/lib/python2.7/site-packages:\"\n",
    "source $HOME/environment\n",
    "dx select $DX_PROJECT_CONTEXT_ID\n",
    "git clone --depth=1 https://github.com/aquaskyline/Clairvoyante.git\n",
    "cd Clairvoyante\n",
    "dx download $DX_PROJECT_CONTEXT_ID:/cv_data/trainedModels.tbz\n",
    "tar -jxf trainedModels.tbz\n",
    "\n",
    "dx download $DX_PROJECT_CONTEXT_ID:/cv_data/training.tar.gz\n",
    "tar -zxf training.tar.gz\n",
    "\n",
    "dx download $DX_PROJECT_CONTEXT_ID:/cv_data/testingData.tar.gz\n",
    "tar -zxf testingData.tar.gz\n",
    "```\n",
    "\n",
    "\n",
    "Original data URLs\n",
    "```\n",
    "http://www.bio8.cs.hku.hk/trainedModels.tbz\n",
    "https://www.dropbox.com/s/twxe6kyv6k3owz4/training.tar.gz\n",
    "https://www.dropbox.com/s/0s26oru0hut9edc/testingData.tar.gz\n",
    "```"
   ]
  },
  {
   "cell_type": "markdown",
   "metadata": {},
   "source": [
    "## Excute the `prepare_data.sh`. \n",
    "\n",
    "This may take a while."
   ]
  },
  {
   "cell_type": "code",
   "execution_count": null,
   "metadata": {},
   "outputs": [],
   "source": [
    "%%bash\n",
    "bash $HOME/prepare_data.sh"
   ]
  },
  {
   "cell_type": "markdown",
   "metadata": {},
   "source": [
    "# Call variants"
   ]
  },
  {
   "cell_type": "markdown",
   "metadata": {},
   "source": [
    "## Call variants from at known variant sites using a BAM file and a trained model"
   ]
  },
  {
   "cell_type": "code",
   "execution_count": null,
   "metadata": {},
   "outputs": [],
   "source": [
    "%%bash\n",
    "export PATH=/anaconda2/bin:$PATH\n",
    "cd Clairvoyante/training\n",
    "python ../clairvoyante/callVarBam.py \\\n",
    "       --chkpnt_fn ../trainedModels/fullv3-illumina-novoalign-hg001+hg002-hg38/learningRate1e-3.epoch500 \\\n",
    "       --bam_fn ../testingData/chr21/chr21.bam \\\n",
    "       --ref_fn ../testingData/chr21/chr21.fa \\\n",
    "       --call_fn tensor_can_chr21.vcf \\\n",
    "       --ctgName chr21\n",
    "head -100 tensor_can_chr21.vcf"
   ]
  },
  {
   "cell_type": "markdown",
   "metadata": {},
   "source": [
    "## Call variants from the tensors of candidate variant and a trained model"
   ]
  },
  {
   "cell_type": "code",
   "execution_count": null,
   "metadata": {},
   "outputs": [],
   "source": [
    "%%bash\n",
    "export PATH=/anaconda2/bin:$PATH\n",
    "cd Clairvoyante/training\n",
    "python ../clairvoyante/callVar.py --chkpnt_fn ../trainedModels/fullv3-illumina-novoalign-hg001+hg002-hg38/learningRate1e-3.epoch500 --tensor_fn tensor_can_chr21 --call_fn tensor_can_chr21.vcf\n",
    "head -100 tensor_can_chr21.vcf"
   ]
  }
 ],
 "metadata": {
  "kernelspec": {
   "display_name": "Python 3",
   "language": "python",
   "name": "python3"
  },
  "language_info": {
   "codemirror_mode": {
    "name": "ipython",
    "version": 3
   },
   "file_extension": ".py",
   "mimetype": "text/x-python",
   "name": "python",
   "nbconvert_exporter": "python",
   "pygments_lexer": "ipython3",
   "version": "3.6.4"
  }
 },
 "nbformat": 4,
 "nbformat_minor": 2
}
